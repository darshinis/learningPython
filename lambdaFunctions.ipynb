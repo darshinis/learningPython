{
 "cells": [
  {
   "cell_type": "code",
   "execution_count": 3,
   "id": "e0078174",
   "metadata": {},
   "outputs": [],
   "source": [
    "max_f = lambda x,y:x if x>y else y"
   ]
  },
  {
   "cell_type": "code",
   "execution_count": 4,
   "id": "9025340e",
   "metadata": {},
   "outputs": [
    {
     "name": "stdout",
     "output_type": "stream",
     "text": [
      "7\n"
     ]
    }
   ],
   "source": [
    "print(max_f(7,4))"
   ]
  },
  {
   "cell_type": "code",
   "execution_count": 12,
   "id": "6997f26d",
   "metadata": {},
   "outputs": [],
   "source": [
    "range_f = lambda x: list(range(1,x+1))"
   ]
  },
  {
   "cell_type": "code",
   "execution_count": 13,
   "id": "fd2f42dc",
   "metadata": {},
   "outputs": [
    {
     "name": "stdout",
     "output_type": "stream",
     "text": [
      "[1, 2, 3, 4, 5]\n"
     ]
    }
   ],
   "source": [
    "print(range_f(5))"
   ]
  },
  {
   "cell_type": "code",
   "execution_count": 20,
   "id": "dd95b054",
   "metadata": {},
   "outputs": [],
   "source": [
    "loop_f = lambda x : [i for i in range(x) if i%2==0]"
   ]
  },
  {
   "cell_type": "code",
   "execution_count": 21,
   "id": "94cf5dac",
   "metadata": {},
   "outputs": [
    {
     "name": "stdout",
     "output_type": "stream",
     "text": [
      "[0, 2, 4, 6, 8]\n"
     ]
    }
   ],
   "source": [
    "print(loop_f(10))"
   ]
  },
  {
   "cell_type": "code",
   "execution_count": 23,
   "id": "8169c4a8",
   "metadata": {},
   "outputs": [],
   "source": [
    "busket = ['apple','banana','strawberry','sunflower','cocunut']"
   ]
  },
  {
   "cell_type": "code",
   "execution_count": 35,
   "id": "534e781f",
   "metadata": {},
   "outputs": [],
   "source": [
    "# list comprehension in python and lambda function\n",
    "# in lambda function if we want to return a list, enclous ethe code inside the list []\n",
    "busket_u = lambda x: [x[i].upper() for i in range(len(x))] "
   ]
  },
  {
   "cell_type": "code",
   "execution_count": 36,
   "id": "7bbcbc7c",
   "metadata": {},
   "outputs": [
    {
     "name": "stdout",
     "output_type": "stream",
     "text": [
      "['APPLE', 'BANANA', 'STRAWBERRY', 'SUNFLOWER', 'COCUNUT']\n"
     ]
    }
   ],
   "source": [
    "print(busket_u(busket))"
   ]
  },
  {
   "cell_type": "code",
   "execution_count": 41,
   "id": "5ae086fa",
   "metadata": {},
   "outputs": [
    {
     "data": {
      "text/plain": [
       "23"
      ]
     },
     "execution_count": 41,
     "metadata": {},
     "output_type": "execute_result"
    }
   ],
   "source": [
    "\"\"\"\n",
    "imediately invoke function expression (IIFE) : \n",
    "here we no need to assign lambda function to a variable\n",
    "\"\"\"\n",
    "(lambda x,y : x+y+10)(5,8)"
   ]
  },
  {
   "cell_type": "code",
   "execution_count": 42,
   "id": "266e1053",
   "metadata": {},
   "outputs": [
    {
     "name": "stdout",
     "output_type": "stream",
     "text": [
      "243\n"
     ]
    }
   ],
   "source": [
    "\"\"\"\n",
    "key word arguments : here when calling the lambda function we no need to follow the \n",
    "order of argument passing, we can pass it with the name of the arguments\n",
    "\"\"\"\n",
    "mul_lmd_fun = lambda a,b : a*b\n",
    "print(mul_lmd_fun(b=3,a=81))"
   ]
  },
  {
   "cell_type": "code",
   "execution_count": 44,
   "id": "96e8b3bb",
   "metadata": {},
   "outputs": [
    {
     "name": "stdout",
     "output_type": "stream",
     "text": [
      "100\n"
     ]
    }
   ],
   "source": [
    "\"\"\"\n",
    "default parameters : here we will defina a default value for the parameters\n",
    "if value is not passed it will consider the default value if not it will take the user value\n",
    "\"\"\"\n",
    "def_arg = lambda x, y=5:x*y\n",
    "print(def_arg(20))"
   ]
  },
  {
   "cell_type": "code",
   "execution_count": 45,
   "id": "8f52e379",
   "metadata": {},
   "outputs": [
    {
     "name": "stdout",
     "output_type": "stream",
     "text": [
      "800\n"
     ]
    }
   ],
   "source": [
    "print(def_arg(20,40))"
   ]
  },
  {
   "cell_type": "code",
   "execution_count": 46,
   "id": "a5a07386",
   "metadata": {},
   "outputs": [],
   "source": [
    "# * args parameter\n"
   ]
  },
  {
   "cell_type": "code",
   "execution_count": 47,
   "id": "b8d2caed",
   "metadata": {},
   "outputs": [
    {
     "data": {
      "text/plain": [
       "105"
      ]
     },
     "execution_count": 47,
     "metadata": {},
     "output_type": "execute_result"
    }
   ],
   "source": [
    "\"\"\"\n",
    "lamda functions are also use dwith the higher order functions\n",
    "higher order functions : passing a lambda function as a argument for a lambda function\n",
    "\"\"\"\n",
    "higher_ord_fun = lambda x , fun : x+fun(x)\n",
    "higher_ord_fun(5,lambda x : x*20)"
   ]
  },
  {
   "cell_type": "code",
   "execution_count": 54,
   "id": "fadef1f6",
   "metadata": {},
   "outputs": [
    {
     "name": "stdout",
     "output_type": "stream",
     "text": [
      "['HELLO', 'HAI', 'HOW', 'ARE', 'YOU']\n"
     ]
    }
   ],
   "source": [
    "\"\"\"\n",
    "mapping the items of list to the lambda functions\n",
    "SYNTAX :\n",
    "map(function,iterator)\n",
    "\"\"\"\n",
    "list_items = ['hello','hai','how','are','you']\n",
    "upper_lambda = lambda x : x.upper()\n",
    "print(list(map(upper_lambda,list_items)))"
   ]
  },
  {
   "cell_type": "code",
   "execution_count": 59,
   "id": "0a7c813a",
   "metadata": {},
   "outputs": [
    {
     "name": "stdout",
     "output_type": "stream",
     "text": [
      "[2, 4, 6, 8, 10]\n"
     ]
    }
   ],
   "source": [
    "\"\"\"\n",
    "filtering the items of list using the lambda functions\n",
    "SYNTAX :\n",
    "filter(function,iterator)\n",
    "\"\"\"\n",
    "list_items = [1,2,3,4,5,6,7,8,9,10]\n",
    "upper_lambda = lambda x : x%2==0\n",
    "print(list(filter(upper_lambda,list_items)))"
   ]
  },
  {
   "cell_type": "code",
   "execution_count": 68,
   "id": "bbae5546",
   "metadata": {},
   "outputs": [
    {
     "name": "stdout",
     "output_type": "stream",
     "text": [
      "55\n"
     ]
    }
   ],
   "source": [
    "\"\"\"\n",
    "reduce function from functools \n",
    "using the lambda functions\n",
    "\n",
    "SYNTAX :\n",
    "filter(function,iterator)\n",
    "\"\"\"\n",
    "from functools import reduce\n",
    "list_items = [1,2,3,4,5,6,7,8,9,10]\n",
    "upper_lambda = lambda x,y : x+y\n",
    "print(reduce(upper_lambda,list_items))"
   ]
  },
  {
   "cell_type": "code",
   "execution_count": 71,
   "id": "d2a5fc78",
   "metadata": {},
   "outputs": [
    {
     "name": "stdout",
     "output_type": "stream",
     "text": [
      "hello hai how are you\n"
     ]
    }
   ],
   "source": [
    "\"\"\"\n",
    "reduce function from functools \n",
    "using the lambda functions\n",
    "\n",
    "SYNTAX :\n",
    "filter(function,iterator)\n",
    "\n",
    "FUNCTIONALITY :\n",
    "reduce will take first 2 elements and then apply function to the 2 numbers and resultant \n",
    "of this will apply fro the next numbers it will go on untill no elemnst are remaing\n",
    "\"\"\"\n",
    "from functools import reduce\n",
    "list_items = ['hello','hai','how','are','you']\n",
    "upper_lambda = lambda x,y : x+\" \"+y\n",
    "print(reduce(upper_lambda,list_items))"
   ]
  },
  {
   "cell_type": "code",
   "execution_count": null,
   "id": "758812ce",
   "metadata": {},
   "outputs": [],
   "source": []
  }
 ],
 "metadata": {
  "kernelspec": {
   "display_name": "Python 3 (ipykernel)",
   "language": "python",
   "name": "python3"
  },
  "language_info": {
   "codemirror_mode": {
    "name": "ipython",
    "version": 3
   },
   "file_extension": ".py",
   "mimetype": "text/x-python",
   "name": "python",
   "nbconvert_exporter": "python",
   "pygments_lexer": "ipython3",
   "version": "3.9.13"
  }
 },
 "nbformat": 4,
 "nbformat_minor": 5
}
